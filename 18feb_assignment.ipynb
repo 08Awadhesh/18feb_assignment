{
 "cells": [
  {
   "cell_type": "markdown",
   "id": "efc3df07-b0a6-4b2b-8031-fbab4d5a4325",
   "metadata": {},
   "source": [
    "**Q1**. What is an API? Give an example, where an API is used in real life.\n",
    "\n",
    "**Answer**:An API is the interface that allows two independent software components to exchange information. An API acts as an intermediary between internal software functions and external ones, creating an exchange of information so seamless that it often goes unnoticed by the end user.\n",
    "\n",
    "**Example:** \n",
    "(i) Sharing flight information between airlines and travel sites\n",
    "\n",
    "(ii) Using Google Maps in a rideshare app\n",
    "\n",
    "(iii) Building chatbots in a messaging service\n",
    "\n",
    "(iv) Embedding YouTube videos into a webpage\n",
    "\n",
    "(v) Automating workflows between B2B software tools"
   ]
  },
  {
   "cell_type": "markdown",
   "id": "a75454b4-d964-4189-92bd-6b5b440003e2",
   "metadata": {},
   "source": [
    "**Q2.** Give advantages and disadvantages of using API.\n",
    "\n",
    "**Answer:** **Advantages**:\n",
    "(i) Automation:\n",
    "When using an API managed by computers, less human effort is required and workflows can be easily updated to become faster and more productive. Furthermore, new content and information can be published and shared with your entire audience quickly and efficiently across all channels. \n",
    "\n",
    "(ii) Developer efficiency and innovation:\n",
    "APIs empower developers to be more productive by reusing code in complex but repetitive processes. They don’t need to start from scratch as the API specifies how to assemble software components in a program. APIs exist to make it easy to interface with other developers' applications.\n",
    "\n",
    "(iii) Improved value proposition\n",
    "By using APIs made available by companies such as Amazon, Salesforce, or Twitter, an application can integrate those services into their own systems to make themselves more attractive to customers.\n",
    "\n",
    "**Disadvantage**:\n",
    "APIs carry a number of watch-outs, too — the most important being security.\n",
    "Poor integration means that an API can be vulnerable to attacks, yet data breaches or losses have huge ramifications when it comes to the finances and reputation of a company. Attacks can also negatively affect the customers of an application as their data and information are compromised"
   ]
  },
  {
   "cell_type": "markdown",
   "id": "2fed1bb8-b2dc-4923-9b6d-44dedf8a9493",
   "metadata": {},
   "source": [
    "**Q3.** What is a Web API? Differentiate between API and Web API.\n",
    "\n",
    "**Answer**:A Web API, is a type of API that is specifically designed for web applications. It is a set of protocols and tools used for building web-based applications that can communicate with other applications over the internet. Web APIs are typically designed to be accessed using HTTP (Hypertext Transfer Protocol) requests and can be used to exchange data between different web-based applications.\n",
    "\n",
    "The main difference between an API and a Web API is the environment in which they operate. While an API can be used in any software environment, a Web API is specifically designed for web-based applications. Web APIs also tend to be more focused on exchanging data over HTTP requests, whereas APIs may be used for a wider range of tasks, such as controlling hardware devices or accessing databases."
   ]
  },
  {
   "cell_type": "markdown",
   "id": "1ab58ca1-8414-4547-8c53-1df0ef207217",
   "metadata": {},
   "source": [
    "**Q4.** Explain REST and SOAP Architecture. Mention shortcomings of SOAP.\n",
    "\n",
    "**Answer**:REST (Representational State Transfer) and SOAP (Simple Object Access Protocol) are two popular architectural styles for building web services.\n",
    "\n",
    "REST is a lightweight and flexible architecture that is based on the principles of the World Wide Web. It uses simple HTTP methods like GET, POST, PUT, and DELETE to access and manipulate resources, which are identified by unique URIs (Uniform Resource Identifiers). RESTful services are stateless, meaning that each request contains all the information needed to complete the transaction, and there is no need for the server to maintain session information. RESTful services are widely used because of their simplicity, scalability, and interoperability.\n",
    "\n",
    "SOAP, on the other hand, is a more complex architecture that uses XML (Extensible Markup Language) to send messages between applications. SOAP services typically use a WSDL (Web Services Description Language) to define the structure of the messages, and a SOAP header to provide additional information about the request. SOAP services are designed to be highly structured and can provide more functionality than RESTful services, such as transactions, security, and reliability.\n",
    "\n",
    "One of the main shortcomings of SOAP is its complexity. SOAP messages can be large and require a lot of processing power to generate and parse. SOAP services are also more difficult to debug and maintain because of their complexity. In addition, SOAP services typically require a more rigid contract between the client and server, which can make it more difficult to modify or extend the service over time. Finally, SOAP services are less interoperable than RESTful services because they require more overhead and are less flexible."
   ]
  },
  {
   "cell_type": "markdown",
   "id": "e8726491-f953-43cf-8498-0a5404eda9d1",
   "metadata": {},
   "source": [
    "**Q5.** Differentiate between REST and SOAP.\n",
    "\n",
    "**Answer**:REST (Representational State Transfer) and SOAP (Simple Object Access Protocol) are two popular architectural styles for building web services. Here are some of the main differences between them:\n",
    "\n",
    "**(i) Protocol:** REST uses HTTP methods like GET, POST, PUT, and DELETE to access and manipulate resources, while SOAP uses XML messages and a variety of underlying protocols such as HTTP, SMTP, TCP, or JMS.\n",
    "\n",
    "**(ii) Data format:** REST typically uses lightweight data formats like JSON or XML to represent data, while SOAP messages are always in XML format.\n",
    "\n",
    "**(iii) Complexity:** REST is relatively simple and easy to implement, while SOAP is more complex and can require more development effort.\n",
    "\n",
    "**(iv) Statelessness:** REST is stateless, meaning that each request contains all the information needed to complete the transaction, while SOAP can maintain session information between requests.\n",
    "\n",
    "**(v) Caching:**  REST is designed to be cacheable, while caching is more difficult to implement in SOAP.\n",
    "\n",
    "**(VI) Performance**: REST typically performs better than SOAP because it uses less bandwidth and requires less processing power.\n",
    "\n",
    "**(VII) Flexibility:** REST is more flexible than SOAP because it does not require a rigid contract between the client and server.\n",
    "\n"
   ]
  },
  {
   "cell_type": "code",
   "execution_count": null,
   "id": "edb34cff-cc3e-4ad3-a6f0-12d12281675f",
   "metadata": {},
   "outputs": [],
   "source": []
  },
  {
   "cell_type": "code",
   "execution_count": null,
   "id": "32f2541a-80f6-41ee-bebf-d638e071488e",
   "metadata": {},
   "outputs": [],
   "source": []
  },
  {
   "cell_type": "code",
   "execution_count": null,
   "id": "2739869c-191d-4ed4-8514-86a50eed244d",
   "metadata": {},
   "outputs": [],
   "source": []
  },
  {
   "cell_type": "code",
   "execution_count": null,
   "id": "cae430c8-5ea1-492c-9e90-225729ae2c47",
   "metadata": {},
   "outputs": [],
   "source": []
  },
  {
   "cell_type": "code",
   "execution_count": null,
   "id": "3abffaa2-76a2-4b1d-8949-bf07c5709802",
   "metadata": {},
   "outputs": [],
   "source": []
  },
  {
   "cell_type": "code",
   "execution_count": null,
   "id": "5bf35550-7fbd-4882-a4bf-46c31e05790d",
   "metadata": {},
   "outputs": [],
   "source": []
  },
  {
   "cell_type": "code",
   "execution_count": null,
   "id": "631b9bb2-46b1-4905-9e9f-45ce47b7c46d",
   "metadata": {},
   "outputs": [],
   "source": []
  },
  {
   "cell_type": "code",
   "execution_count": null,
   "id": "5da732c6-0cfe-4286-afda-3ca91c5cc88d",
   "metadata": {},
   "outputs": [],
   "source": []
  },
  {
   "cell_type": "code",
   "execution_count": null,
   "id": "f17bf482-c3e1-4c04-9d99-9f0a3106d9eb",
   "metadata": {},
   "outputs": [],
   "source": []
  },
  {
   "cell_type": "code",
   "execution_count": null,
   "id": "3e0fdad4-c73d-4384-9986-e13b937992b7",
   "metadata": {},
   "outputs": [],
   "source": []
  },
  {
   "cell_type": "code",
   "execution_count": null,
   "id": "d6bec81f-374b-462f-9c15-de2ceb82c066",
   "metadata": {},
   "outputs": [],
   "source": []
  },
  {
   "cell_type": "code",
   "execution_count": null,
   "id": "8c8c5e0d-b09f-481d-8acb-911f838c0868",
   "metadata": {},
   "outputs": [],
   "source": []
  }
 ],
 "metadata": {
  "kernelspec": {
   "display_name": "Python 3 (ipykernel)",
   "language": "python",
   "name": "python3"
  },
  "language_info": {
   "codemirror_mode": {
    "name": "ipython",
    "version": 3
   },
   "file_extension": ".py",
   "mimetype": "text/x-python",
   "name": "python",
   "nbconvert_exporter": "python",
   "pygments_lexer": "ipython3",
   "version": "3.10.8"
  }
 },
 "nbformat": 4,
 "nbformat_minor": 5
}
